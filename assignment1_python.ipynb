{
  "nbformat": 4,
  "nbformat_minor": 0,
  "metadata": {
    "colab": {
      "provenance": []
    },
    "kernelspec": {
      "name": "python3",
      "display_name": "Python 3"
    },
    "language_info": {
      "name": "python"
    }
  },
  "cells": [
    {
      "cell_type": "code",
      "execution_count": null,
      "metadata": {
        "id": "4iwlw3l04Zcz"
      },
      "outputs": [],
      "source": []
    },
    {
      "cell_type": "markdown",
      "source": [
        "1)Explain the key features of Python that make it a popular choice for programming"
      ],
      "metadata": {
        "id": "ZrOx5uzW4dLB"
      }
    },
    {
      "cell_type": "markdown",
      "source": [
        "ANS) 1) Easy to learn – Simple syntax, readable code. <br> 2) more libraries <br> 3) big community <br> 4) huge uses in various industries like web dev , data science , automation"
      ],
      "metadata": {
        "id": "XTr1NYUB4sKf"
      }
    },
    {
      "cell_type": "markdown",
      "source": [
        "2) Describe the role of predefined keywords in Python and provide examples of how they are used in a program"
      ],
      "metadata": {
        "id": "xx0UqoSy5JL_"
      }
    },
    {
      "cell_type": "markdown",
      "source": [
        "ANS) Predefined keywords in Python are reserved words that have special meanings and uses<br> keywords cannot used  as names for variables, functions, or other identifiers <br> ex: \"if\" , \"else\" , \"for\" , \"def\" , \"class\""
      ],
      "metadata": {
        "id": "pa9DCxrh5cDS"
      }
    },
    {
      "cell_type": "markdown",
      "source": [
        "3) Compare and contrast mutable and immutable objects in Python with examples"
      ],
      "metadata": {
        "id": "KNO-CYVk523M"
      }
    },
    {
      "cell_type": "markdown",
      "source": [
        "ANS) mutable means which can be changable and immutable means which canot be changed <br>\n",
        "ex of mutable objects are lists , dictionaries , sets , bytes <br> ex of immutable objects are strings , tuples , integers <br> at memory level we have the following change : Mutable objects may modify their contents without changing memory location, while immutable objects will always create new objects upon modification."
      ],
      "metadata": {
        "id": "OR3h0D6e6FOA"
      }
    },
    {
      "cell_type": "code",
      "source": [
        "a = [ 1, 2, 3]\n",
        "a[0] = 5\n",
        "print(a , \" a[0] changed\")"
      ],
      "metadata": {
        "id": "T9TsiweH9SmF"
      },
      "execution_count": null,
      "outputs": []
    },
    {
      "cell_type": "markdown",
      "source": [
        "4) Discuss the different types of operators in Python and provide examples of how they are used"
      ],
      "metadata": {
        "id": "ihsTLvT76xZr"
      }
    },
    {
      "cell_type": "markdown",
      "source": [
        "1) Arithmetic Operators : + , - , / , * <br>\n",
        "2) Comparison Operators : == , != , > , < , >= , <= <br>\n",
        "3) Logical Operators:\n",
        "and , or , not <br>\n",
        "4) Assignment Operators: = , += , -= , *= , /= <br>\n",
        "5) bit wise operators : & , ^ , !<br>\n",
        "6) identity operators : is isnot <br>\n",
        "7)  Membership Operators: in & not in"
      ],
      "metadata": {
        "id": "lEtvoHFy68ji"
      }
    },
    {
      "cell_type": "code",
      "source": [
        "a = 5\n",
        "b = 3\n",
        "sum = a+b\n",
        "print(sum)"
      ],
      "metadata": {
        "id": "BUahIWaI9KfR"
      },
      "execution_count": null,
      "outputs": []
    },
    {
      "cell_type": "markdown",
      "source": [
        "5) Explain the concept of type casting in Python with examples"
      ],
      "metadata": {
        "id": "0UqC3z247xFl"
      }
    },
    {
      "cell_type": "markdown",
      "source": [
        "ans) Type casting in Python means to converting one data type into another. Python has built-in functions to change between different data types, allowing you to convert variables and expressions from one type to another\n",
        "ex: int() – Converts to integer.\n",
        "float() – Converts to float.\n",
        "str() – Converts to string.\n",
        "list() – Converts to a list.\n",
        "tuple() – Converts to a tuple.\n",
        "set() – Converts to a set."
      ],
      "metadata": {
        "id": "5PVuCvzn8XP8"
      }
    },
    {
      "cell_type": "code",
      "source": [
        "x = 5\n",
        "y = float(x)\n",
        "print(type(x)  , print(type(y)))"
      ],
      "metadata": {
        "colab": {
          "base_uri": "https://localhost:8080/"
        },
        "id": "QDvmliDK9CWX",
        "outputId": "6926abc5-7d8b-490c-e3c8-cb725b353af4"
      },
      "execution_count": 1,
      "outputs": [
        {
          "output_type": "stream",
          "name": "stdout",
          "text": [
            "<class 'float'>\n",
            "<class 'int'> None\n"
          ]
        }
      ]
    },
    {
      "cell_type": "markdown",
      "source": [
        "6) How do conditional statements work in Python? Illustrate with example"
      ],
      "metadata": {
        "id": "37IHxCVn8_CW"
      }
    },
    {
      "cell_type": "markdown",
      "source": [
        "ANS) Conditional statements in Python allow you to execute code based on certain conditions. These statements check whether an expression evaluates to True or False and execute specific blocks of code accordingly. The main conditional statements in Python are:\n",
        "\n",
        "if: Executes a block of code if a condition is true.\n",
        "elif: Checks additional conditions if the previous if condition is false.\n",
        "else: Executes a block of code if none of the previous conditions are true"
      ],
      "metadata": {
        "id": "gdidSPCY82wq"
      }
    },
    {
      "cell_type": "markdown",
      "source": [],
      "metadata": {
        "id": "ngd_rAuD8uG_"
      }
    },
    {
      "cell_type": "code",
      "source": [
        "age = 20\n",
        "\n",
        "if age < 18:\n",
        "    print(\"You are a minor.\")\n",
        "elif age >= 18 and age < 65:\n",
        "    print(\"You are an adult.\")\n",
        "else:\n",
        "    print(\"You are a senior citizen.\")"
      ],
      "metadata": {
        "colab": {
          "base_uri": "https://localhost:8080/"
        },
        "id": "gm87GPwZ4wlu",
        "outputId": "2f586cfb-f555-4df2-e5a4-52a36048d91a"
      },
      "execution_count": 2,
      "outputs": [
        {
          "output_type": "stream",
          "name": "stdout",
          "text": [
            "You are an adult.\n"
          ]
        }
      ]
    },
    {
      "cell_type": "markdown",
      "source": [
        "8)Describe the different types of loops in Python and their use cases with examples."
      ],
      "metadata": {
        "id": "ZL17b1Ul_DaR"
      }
    },
    {
      "cell_type": "markdown",
      "source": [
        " for loop and the while loop"
      ],
      "metadata": {
        "id": "ej7Vpcnl_ECd"
      }
    },
    {
      "cell_type": "code",
      "source": [
        "fruits = [\"apple\", \"banana\", \"cherry\"]\n",
        "for fruit in fruits:\n",
        "    print(fruit)\n",
        "count = 1\n",
        "while count <= 5:\n",
        "    print(count)\n",
        "    count += 1"
      ],
      "metadata": {
        "id": "NyYOFbU6_E4c"
      },
      "execution_count": null,
      "outputs": []
    }
  ]
}